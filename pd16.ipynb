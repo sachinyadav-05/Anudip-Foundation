{
 "cells": [
  {
   "cell_type": "code",
   "execution_count": 1,
   "id": "49b709a3-1cf3-45a9-b1d6-51b8f4f563f4",
   "metadata": {},
   "outputs": [
    {
     "name": "stdout",
     "output_type": "stream",
     "text": [
      "{'stdid': 'std101', 'stdname': 'ashish kumar', 'standard': '10th', 'Age': '15', 'Hindi': '67', 'English': '89'}\n"
     ]
    }
   ],
   "source": [
    "student={\"stdid\":\"std101\", \"stdname\":\"ashish kumar\", \"standard\":\"10th\", \"Age\":\"15\", \"Hindi\":\"67\", \"English\":\"89\"}\n",
    "print(student)"
   ]
  },
  {
   "cell_type": "code",
   "execution_count": 3,
   "id": "f775ac61-e206-438f-bb1a-f71e92e58c2e",
   "metadata": {},
   "outputs": [
    {
     "data": {
      "text/plain": [
       "'67'"
      ]
     },
     "execution_count": 3,
     "metadata": {},
     "output_type": "execute_result"
    }
   ],
   "source": [
    "student.pop('Hindi')"
   ]
  },
  {
   "cell_type": "code",
   "execution_count": 5,
   "id": "5d113f7e-e8f7-4db9-9c47-33b83dae2beb",
   "metadata": {},
   "outputs": [
    {
     "name": "stdout",
     "output_type": "stream",
     "text": [
      "{'stdid': 'std101', 'stdname': 'ashish kumar', 'standard': '10th', 'Age': '15', 'English': '89'}\n"
     ]
    }
   ],
   "source": [
    "print(student)\n"
   ]
  },
  {
   "cell_type": "code",
   "execution_count": 7,
   "id": "96d3eb89-cbe4-4866-b2bd-d724e1b1d5f4",
   "metadata": {},
   "outputs": [
    {
     "name": "stdout",
     "output_type": "stream",
     "text": [
      "{'stdid': 'std101', 'stdname': 'ashish kumar', 'standard': '10th', 'Age': '15'}\n"
     ]
    }
   ],
   "source": [
    "student.popitem()\n",
    "print(student)"
   ]
  },
  {
   "cell_type": "code",
   "execution_count": 9,
   "id": "1a9adc76-8aa4-467b-80c1-311ba25e9ae9",
   "metadata": {},
   "outputs": [
    {
     "name": "stdout",
     "output_type": "stream",
     "text": [
      "dict_keys(['stdid', 'stdname', 'standard', 'Age'])\n"
     ]
    }
   ],
   "source": [
    "elementkeys=student.keys()\n",
    "print(elementkeys)"
   ]
  },
  {
   "cell_type": "code",
   "execution_count": 11,
   "id": "d82edab0-4425-4c91-882d-df631a4cc012",
   "metadata": {},
   "outputs": [
    {
     "name": "stdout",
     "output_type": "stream",
     "text": [
      "dict_values(['std101', 'ashish kumar', '10th', '15'])\n"
     ]
    }
   ],
   "source": [
    "elementvalues=student.values()\n",
    "print(elementvalues)"
   ]
  },
  {
   "cell_type": "code",
   "execution_count": 15,
   "id": "9a61cbd7-1cb6-42f2-a1b3-417d409fbcd7",
   "metadata": {},
   "outputs": [
    {
     "name": "stdout",
     "output_type": "stream",
     "text": [
      "dict_items([('stdid', 'std101'), ('stdname', 'ashish kumar'), ('standard', '10th'), ('Age', '15')])\n"
     ]
    }
   ],
   "source": [
    "elements=student.items()\n",
    "print(elements)"
   ]
  },
  {
   "cell_type": "code",
   "execution_count": 17,
   "id": "200c2267-2093-4fb5-b4a4-3ee66aee0025",
   "metadata": {},
   "outputs": [
    {
     "name": "stdout",
     "output_type": "stream",
     "text": [
      "None\n"
     ]
    }
   ],
   "source": [
    "x=student.get('math')\n",
    "print(x)"
   ]
  },
  {
   "cell_type": "code",
   "execution_count": 21,
   "id": "880017fc-c890-4f7f-8d78-70b30abcd06a",
   "metadata": {},
   "outputs": [
    {
     "name": "stdout",
     "output_type": "stream",
     "text": [
      "no element exist\n"
     ]
    }
   ],
   "source": [
    "x=student.get('math','no element exist')\n",
    "print(x)"
   ]
  },
  {
   "cell_type": "code",
   "execution_count": 23,
   "id": "0dc7f45c-d2d7-4d6d-b103-e9b59b223b96",
   "metadata": {},
   "outputs": [
    {
     "name": "stdout",
     "output_type": "stream",
     "text": [
      "{'stdid': 'std102', 'stdname': 'kumar', 'standard': '10th', 'Age': '19', 'Hindi': '67', 'English': '89'}\n"
     ]
    }
   ],
   "source": [
    "student1={\"stdid\":\"std101\", \"stdname\":\"ashish\", \"standard\":\"10th\", \"Age\":\"15\",}\n",
    "student2={\"stdid\":\"std102\", \"stdname\":\"kumar\", \"standard\":\"10th\", \"Age\":\"19\", \"Hindi\":\"67\", \"English\":\"89\"}\n",
    "student1.update(student2)\n",
    "print(student1)"
   ]
  },
  {
   "cell_type": "code",
   "execution_count": 29,
   "id": "8cbb2aab-eafb-421f-b133-9b58d0512e41",
   "metadata": {},
   "outputs": [
    {
     "name": "stdout",
     "output_type": "stream",
     "text": [
      "{'s': 'stdname', 't': 'stdname', 'a': 'stdname', 'n': 'stdname', 'd': 'stdname', 'r': 'stdname'}\n"
     ]
    }
   ],
   "source": [
    "x=student1.fromkeys('standard','stdname')\n",
    "print(x)"
   ]
  },
  {
   "cell_type": "code",
   "execution_count": 33,
   "id": "8ce08cf4-5475-4d46-b851-92dca9ac2f17",
   "metadata": {},
   "outputs": [
    {
     "name": "stdout",
     "output_type": "stream",
     "text": [
      "{'stdid': dict_values(['std102', 'kumar', '10th', '19', '67', '89']), 'stdname': dict_values(['std102', 'kumar', '10th', '19', '67', '89']), 'standard': dict_values(['std102', 'kumar', '10th', '19', '67', '89']), 'Age': dict_values(['std102', 'kumar', '10th', '19', '67', '89']), 'Hindi': dict_values(['std102', 'kumar', '10th', '19', '67', '89']), 'English': dict_values(['std102', 'kumar', '10th', '19', '67', '89'])}\n"
     ]
    }
   ],
   "source": [
    "x=student1.fromkeys(student1.keys(),student1.values())\n",
    "print(x)"
   ]
  },
  {
   "cell_type": "code",
   "execution_count": 35,
   "id": "f5e0ba9d-4e7e-47af-8e56-37b3f6c413f1",
   "metadata": {},
   "outputs": [
    {
     "name": "stdout",
     "output_type": "stream",
     "text": [
      "{'stdid': 15, 'stdname': 15, 'standard': 15, 'Age': 15, 'Hindi': 15, 'English': 15}\n"
     ]
    }
   ],
   "source": [
    "x=student1.fromkeys(student1.keys(),15)\n",
    "print(x)"
   ]
  },
  {
   "cell_type": "code",
   "execution_count": 41,
   "id": "87a01720-c7ad-4c92-ac66-d5ac492b283d",
   "metadata": {},
   "outputs": [
    {
     "name": "stdout",
     "output_type": "stream",
     "text": [
      "6\n"
     ]
    }
   ],
   "source": [
    "x=len(student1)\n",
    "print(x)"
   ]
  },
  {
   "cell_type": "code",
   "execution_count": 58,
   "id": "c5f13f92-bbb6-44cc-9aad-9ef4af4c4cd4",
   "metadata": {},
   "outputs": [
    {
     "name": "stdout",
     "output_type": "stream",
     "text": [
      "{'data1': {'stdid': 'std101', 'stdname': 'Ashish Kumar', 'standard': '10th', 'Age': 15, 'Hindi': 67, 'English': 89, 'Maths': 87, 'Science': 89, 'Computer': 90, 'Total': 422}, 'data2': {'stdid': 'std102', 'stdname': 'Abhishek Kumar', 'standard': '10th', 'Age': 14, 'Hindi': 90, 'English': 90, 'Maths': 90, 'Science': 45, 'Computer': 45, 'Total': 360}, 'data3': {'stdid': 'std103', 'stdname': 'Aman', 'standard': '10th', 'Age': 15, 'Hindi': 67, 'English': 56, 'Maths': 78, 'Science': 78, 'Computer': 45, 'Total': 313}, 'data4': {'stdid': 'std104', 'stdname': 'Rahul', 'standard': '10th', 'Age': 15, 'Hindi': 89, 'English': 56, 'Maths': 45, 'Science': 45, 'Computer': 67, 'Total': 302}, 'data5': {'stdid': 'std105', 'stdname': 'Ruby', 'standard': '10th', 'Age': 13, 'Hindi': 78, 'English': 90, 'Maths': 67, 'Science': 45, 'Computer': 56, 'Total': 336}, 'data6': {'stdid': 'std106', 'stdname': 'Suman', 'standard': '10th', 'Age': 15, 'Hindi': 90, 'English': 45, 'Maths': 67, 'Science': 67, 'Computer': 67, 'Total': 403}, 'data7': {'stdid': 'std107', 'stdname': 'Saurabh', 'standard': '10th', 'Age': 15, 'Hindi': 45, 'English': 23, 'Maths': 34, 'Science': 78, 'Computer': 90, 'Total': 270}, 'data8': {'stdid': 'std108', 'stdname': 'Sumit', 'standard': '10th', 'Age': 15, 'Hindi': 78, 'English': 90, 'Maths': 67, 'Science': 78, 'Computer': 78, 'Total': 391}, 'data9': {'stdid': 'std109', 'stdname': 'Kamlesh', 'standard': '10th', 'Age': 15, 'Hindi': 45, 'English': 78, 'Maths': 56, 'Science': 67, 'Computer': 67, 'Total': 303}, 'data10': {'stdid': 'std110', 'stdname': 'Rohan', 'standard': '10th', 'Age': 15, 'Hindi': 12, 'English': 24, 'Maths': 45, 'Science': 56, 'Computer': 34, 'Total': 171}}\n"
     ]
    }
   ],
   "source": [
    "student={\n",
    "    'data1':{'stdid': 'std101', 'stdname': 'Ashish Kumar', 'standard': '10th', 'Age': 15,\n",
    "        'Hindi': 67, 'English': 89, 'Maths': 87, 'Science': 89, 'Computer': 90, 'Total': 422},\n",
    "    'data2':{'stdid': 'std102', 'stdname': 'Abhishek Kumar', 'standard': '10th', 'Age': 14,\n",
    "        'Hindi': 90, 'English': 90, 'Maths': 90, 'Science': 45, 'Computer': 45, 'Total': 360},\n",
    "    'data3':{'stdid': 'std103', 'stdname': 'Aman', 'standard': '10th', 'Age': 15,\n",
    "        'Hindi': 67, 'English': 56, 'Maths': 78, 'Science': 78, 'Computer': 45, 'Total': 313},\n",
    "    'data4':{'stdid': 'std104', 'stdname': 'Rahul', 'standard': '10th', 'Age': 15,\n",
    "        'Hindi': 89, 'English': 56, 'Maths': 45, 'Science': 45, 'Computer': 67, 'Total': 302},\n",
    "    'data5': {'stdid': 'std105', 'stdname': 'Ruby', 'standard': '10th', 'Age': 13,\n",
    "        'Hindi': 78, 'English': 90, 'Maths': 67, 'Science': 45, 'Computer': 56, 'Total': 336},\n",
    "    'data6':{'stdid': 'std106', 'stdname': 'Suman', 'standard': '10th', 'Age': 15,\n",
    "        'Hindi': 90, 'English': 45, 'Maths': 67, 'Science': 67, 'Computer': 67, 'Total': 403},\n",
    "    'data7':{'stdid': 'std107', 'stdname': 'Saurabh', 'standard': '10th', 'Age': 15,\n",
    "        'Hindi': 45, 'English': 23, 'Maths': 34, 'Science': 78, 'Computer': 90, 'Total': 270},\n",
    "    'data8':{'stdid': 'std108', 'stdname': 'Sumit', 'standard': '10th', 'Age': 15,\n",
    "        'Hindi': 78, 'English': 90, 'Maths': 67, 'Science': 78, 'Computer': 78, 'Total': 391},\n",
    "    'data9':{'stdid': 'std109', 'stdname': 'Kamlesh', 'standard': '10th', 'Age': 15,\n",
    "        'Hindi': 45, 'English': 78, 'Maths': 56, 'Science': 67, 'Computer': 67, 'Total': 303},\n",
    "    'data10':{'stdid': 'std110', 'stdname': 'Rohan', 'standard': '10th', 'Age': 15,\n",
    "        'Hindi': 12, 'English': 24, 'Maths': 45, 'Science': 56, 'Computer': 34, 'Total': 171}\n",
    "}\n",
    "print(student)"
   ]
  },
  {
   "cell_type": "code",
   "execution_count": 98,
   "id": "78b6a26a-b6a6-4e1a-8cc8-e10cf0b5ed3d",
   "metadata": {},
   "outputs": [
    {
     "name": "stdout",
     "output_type": "stream",
     "text": [
      "+----+---------+----------------+------------+-------+---------+-----------+---------+-----------+------------+---------+\n",
      "|    | stdid   | stdname        | standard   |   Age |   Hindi |   English |   Maths |   Science |   Computer |   Total |\n",
      "+====+=========+================+============+=======+=========+===========+=========+===========+============+=========+\n",
      "|  0 | std101  | Ashish Kumar   | 10th       |    15 |      67 |        89 |      87 |        89 |         90 |     422 |\n",
      "+----+---------+----------------+------------+-------+---------+-----------+---------+-----------+------------+---------+\n",
      "|  1 | std102  | Abhishek Kumar | 10th       |    14 |      90 |        90 |      90 |        45 |         45 |     360 |\n",
      "+----+---------+----------------+------------+-------+---------+-----------+---------+-----------+------------+---------+\n",
      "|  2 | std103  | Aman           | 10th       |    15 |      67 |        56 |      78 |        78 |         45 |     313 |\n",
      "+----+---------+----------------+------------+-------+---------+-----------+---------+-----------+------------+---------+\n",
      "|  3 | std104  | Rahul          | 10th       |    15 |      89 |        56 |      45 |        45 |         67 |     302 |\n",
      "+----+---------+----------------+------------+-------+---------+-----------+---------+-----------+------------+---------+\n",
      "|  4 | std105  | Ruby           | 10th       |    13 |      78 |        90 |      67 |        45 |         56 |     336 |\n",
      "+----+---------+----------------+------------+-------+---------+-----------+---------+-----------+------------+---------+\n",
      "|  5 | std106  | Suman          | 10th       |    15 |      90 |        45 |      67 |        67 |         67 |     403 |\n",
      "+----+---------+----------------+------------+-------+---------+-----------+---------+-----------+------------+---------+\n",
      "|  6 | std107  | saurabh        | 10th       |    15 |      45 |        23 |      34 |        45 |         34 |     181 |\n",
      "+----+---------+----------------+------------+-------+---------+-----------+---------+-----------+------------+---------+\n",
      "|  7 | std108  | Sumit          | 10th       |    15 |      78 |        90 |      67 |        78 |         78 |     391 |\n",
      "+----+---------+----------------+------------+-------+---------+-----------+---------+-----------+------------+---------+\n",
      "|  8 | std109  | Kamlesh        | 10th       |    15 |      45 |        78 |      56 |        67 |         67 |     303 |\n",
      "+----+---------+----------------+------------+-------+---------+-----------+---------+-----------+------------+---------+\n",
      "|  9 | std110  | Rohan          | 10th       |    15 |      12 |        24 |      45 |        56 |         34 |     171 |\n",
      "+----+---------+----------------+------------+-------+---------+-----------+---------+-----------+------------+---------+\n",
      "          stdname  Age\n",
      "0    Ashish Kumar   15\n",
      "1  Abhishek Kumar   14\n",
      "2            Aman   15\n",
      "3           Rahul   15\n",
      "4            Ruby   13\n",
      "7           Sumit   15\n",
      "8         Kamlesh   15\n"
     ]
    }
   ],
   "source": [
    "import pandas as pd \n",
    "from tabulate import tabulate\n",
    "Students = [\n",
    "            {'stdid': 'std101', 'stdname': 'Ashish Kumar', 'standard': '10th', 'Age': 15,\n",
    "            'Hindi': 67, 'English': 89, 'Maths': 87, 'Science': 89, 'Computer': 90, 'Total': 422\n",
    "            },\n",
    "            {'stdid': 'std102', 'stdname': 'Abhishek Kumar', 'standard': '10th', 'Age': 14,\n",
    "                'Hindi': 90, 'English': 90, 'Maths': 90, 'Science': 45, 'Computer': 45, 'Total': 360\n",
    "            },\n",
    "            {'stdid': 'std103', 'stdname': 'Aman', 'standard': '10th', 'Age': 15,\n",
    "                'Hindi': 67, 'English': 56, 'Maths': 78, 'Science': 78, 'Computer': 45, 'Total': 313\n",
    "            },\n",
    "            {'stdid': 'std104', 'stdname': 'Rahul', 'standard': '10th', 'Age': 15,\n",
    "                'Hindi': 89, 'English': 56, 'Maths': 45, 'Science': 45, 'Computer': 67, 'Total': 302\n",
    "            },\n",
    "            {'stdid': 'std105', 'stdname': 'Ruby', 'standard': '10th', 'Age': 13,\n",
    "                'Hindi': 78, 'English': 90, 'Maths': 67, 'Science': 45, 'Computer': 56, 'Total': 336\n",
    "            },\n",
    "            {'stdid': 'std106', 'stdname': 'Suman', 'standard': '10th', 'Age': 15,\n",
    "                'Hindi': 90, 'English': 45, 'Maths': 67, 'Science': 67, 'Computer': 67, 'Total': 403\n",
    "            },\n",
    "            {'stdid': 'std107', 'stdname': 'saurabh', 'standard': '10th', 'Age': 15,\n",
    "                'Hindi': 45, 'English': 23, 'Maths': 34, 'Science': 45, 'Computer': 34, 'Total': 181\n",
    "            },\n",
    "            {'stdid': 'std108', 'stdname': 'Sumit', 'standard': '10th', 'Age': 15,\n",
    "                'Hindi': 78, 'English': 90, 'Maths': 67, 'Science': 78, 'Computer': 78, 'Total': 391\n",
    "            },\n",
    "            {'stdid': 'std109', 'stdname': 'Kamlesh', 'standard': '10th', 'Age': 15,\n",
    "                'Hindi': 45, 'English': 78, 'Maths': 56, 'Science': 67, 'Computer': 67, 'Total': 303\n",
    "            },\n",
    "            {'stdid': 'std110', 'stdname': 'Rohan', 'standard': '10th', 'Age': 15,\n",
    "                'Hindi': 12, 'English': 24, 'Maths': 45, 'Science': 56, 'Computer': 34,'Total':171\n",
    "            }\n",
    "]\n",
    "header = [\"stdid\",\"stdname\",\"standard\",\"Age\",\"Hindi\",\"English\",\"Maths\",\"Science\",\"Computer\",\"Total\"]\n",
    "\n",
    "df=pd.DataFrame(data=Students,columns=header)\n",
    "student_tabulate= tabulate(df,headers=header,tablefmt=\"grid\")\n",
    "print(student_tabulate)\n",
    "#english marks>50\n",
    "english_filter=df[df['English']>50]\n",
    "\n",
    "print(english_filter[['stdname','Age']])\n",
    "\n",
    "\n"
   ]
  },
  {
   "cell_type": "code",
   "execution_count": null,
   "id": "8b632ccf-6782-41dd-8494-162b8c57f154",
   "metadata": {},
   "outputs": [],
   "source": []
  }
 ],
 "metadata": {
  "kernelspec": {
   "display_name": "Python 3 (ipykernel)",
   "language": "python",
   "name": "python3"
  },
  "language_info": {
   "codemirror_mode": {
    "name": "ipython",
    "version": 3
   },
   "file_extension": ".py",
   "mimetype": "text/x-python",
   "name": "python",
   "nbconvert_exporter": "python",
   "pygments_lexer": "ipython3",
   "version": "3.12.4"
  }
 },
 "nbformat": 4,
 "nbformat_minor": 5
}
